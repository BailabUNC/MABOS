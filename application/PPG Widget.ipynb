{
 "cells": [
  {
   "cell_type": "code",
   "execution_count": null,
   "id": "4866afbb",
   "metadata": {},
   "outputs": [],
   "source": [
    "from utils import *\n",
    "from functools import partial"
   ]
  },
  {
   "cell_type": "code",
   "execution_count": null,
   "id": "b99d60b5-a772-41d6-a086-cc9b8ade01ab",
   "metadata": {},
   "outputs": [],
   "source": [
    "# USER DEFINED\n",
    "num_channel = 3\n",
    "channel_key = [\"Red\", \"IR\", \"Violet\"]\n",
    "baudrate = 115200\n",
    "commport = '/dev/ttyACM0'"
   ]
  },
  {
   "cell_type": "code",
   "execution_count": null,
   "id": "294d4287",
   "metadata": {},
   "outputs": [],
   "source": [
    "window_length=1\n",
    "mutex = mem_manager.create_mutex()\n",
    "ser = ser_manager.setup_serial(commport, baudrate)\n",
    "shm, data_shared, plot = mem_manager.create_shared_block(grid_plot_flag = True, channel_key=channel_key)\n",
    "shape, dtype = data_shared.shape, data_shared.dtype"
   ]
  },
  {
   "cell_type": "code",
   "execution_count": null,
   "id": "d3646660",
   "metadata": {},
   "outputs": [],
   "source": [
    "p1 = multiprocessing.Process(name='update', \n",
    "                             target=update_data,\n",
    "                             args=(ser, shm.name, mutex, window_length, shape, dtype, channel_key,))\n",
    "## Start process and plotting\n",
    "p1.start()\n",
    "plot.add_animations(partial(obtain_grid_plot_data, plot, mutex, shm.name, shape, dtype,))\n",
    "plot.show()"
   ]
  },
  {
   "cell_type": "code",
   "execution_count": null,
   "id": "6999737a",
   "metadata": {},
   "outputs": [],
   "source": [
    "red = mem_manager._load_channel(\"Red\")"
   ]
  },
  {
   "cell_type": "code",
   "execution_count": null,
   "id": "68f9985d-3194-40a8-a500-a558646b924f",
   "metadata": {},
   "outputs": [],
   "source": [
    "red[1]"
   ]
  },
  {
   "cell_type": "code",
   "execution_count": null,
   "id": "a7353349-a086-4e1f-b5bb-a2b3b952af62",
   "metadata": {},
   "outputs": [],
   "source": []
  }
 ],
 "metadata": {
  "kernelspec": {
   "display_name": "Python 3 (ipykernel)",
   "language": "python",
   "name": "python3"
  },
  "language_info": {
   "codemirror_mode": {
    "name": "ipython",
    "version": 3
   },
   "file_extension": ".py",
   "mimetype": "text/x-python",
   "name": "python",
   "nbconvert_exporter": "python",
   "pygments_lexer": "ipython3",
   "version": "3.11.3"
  }
 },
 "nbformat": 4,
 "nbformat_minor": 5
}
