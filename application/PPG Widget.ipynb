{
 "cells": [
  {
   "cell_type": "code",
   "execution_count": null,
   "id": "4866afbb",
   "metadata": {},
   "outputs": [],
   "source": [
    "from utils import *\n",
    "from functools import partial"
   ]
  },
  {
   "cell_type": "code",
   "execution_count": null,
   "id": "294d4287",
   "metadata": {},
   "outputs": [],
   "source": [
    "global shape, dtype, window_length\n",
    "window_length = 1\n",
    "mutex = mem_manager.create_mutex()\n",
    "ser = ser_manager.setup_serial('/dev/ttyACM0', 115200)\n",
    "shm, data_shared, plot = mem_manager.create_shared_block(grid_plot_flag = True)\n",
    "shape, dtype = data_shared.shape, data_shared.dtype"
   ]
  },
  {
   "cell_type": "code",
   "execution_count": null,
   "id": "d3646660",
   "metadata": {},
   "outputs": [],
   "source": [
    "p1 = multiprocessing.Process(name='update', \n",
    "                             target=update_data,\n",
    "                             args=(ser, shm.name, mutex, window_length, shape, dtype, ))\n",
    "## Start process and plotting\n",
    "p1.start()\n",
    "plot.add_animations(partial(obtain_grid_plot_data, plot, mutex, shm.name, shape, dtype,))\n",
    "plot.show()"
   ]
  },
  {
   "cell_type": "code",
   "execution_count": null,
   "id": "6cb4258f",
   "metadata": {},
   "outputs": [],
   "source": [
    "shape"
   ]
  },
  {
   "cell_type": "code",
   "execution_count": null,
   "id": "92aadea0",
   "metadata": {},
   "outputs": [],
   "source": [
    "ser.readline().decode().strip()"
   ]
  },
  {
   "cell_type": "code",
   "execution_count": null,
   "id": "8f4f01d3",
   "metadata": {},
   "outputs": [],
   "source": [
    "for i in range(4):\n",
    "    print(ser.readline().decode().strip())"
   ]
  },
  {
   "cell_type": "code",
   "execution_count": null,
   "id": "9e057357",
   "metadata": {},
   "outputs": [],
   "source": [
    "ser_manager.acquire_data(ser)"
   ]
  },
  {
   "cell_type": "code",
   "execution_count": null,
   "id": "26ccd6b0",
   "metadata": {},
   "outputs": [],
   "source": [
    "np.ones((3,10)) * np.linspace(0, 1, 10)"
   ]
  },
  {
   "cell_type": "code",
   "execution_count": null,
   "id": "0e0ca3ee",
   "metadata": {},
   "outputs": [],
   "source": []
  }
 ],
 "metadata": {
  "kernelspec": {
   "display_name": "mabos",
   "language": "python",
   "name": "mabos"
  },
  "language_info": {
   "codemirror_mode": {
    "name": "ipython",
    "version": 3
   },
   "file_extension": ".py",
   "mimetype": "text/x-python",
   "name": "python",
   "nbconvert_exporter": "python",
   "pygments_lexer": "ipython3",
   "version": "3.11.3"
  }
 },
 "nbformat": 4,
 "nbformat_minor": 5
}
