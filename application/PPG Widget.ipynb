{
 "cells": [
  {
   "cell_type": "code",
   "execution_count": null,
   "id": "4866afbb",
   "metadata": {},
   "outputs": [],
   "source": [
    "from utils import *\n",
    "from functools import partial"
   ]
  },
  {
   "cell_type": "code",
   "execution_count": null,
   "id": "b99d60b5-a772-41d6-a086-cc9b8ade01ab",
   "metadata": {},
   "outputs": [],
   "source": [
    "# USER DEFINED\n",
    "num_channel = 3\n",
    "channel_key = [\"Red\", \"IR\", \"Violet\"]\n",
    "baudrate = 115200\n",
    "commport = '/dev/ttyACM0'"
   ]
  },
  {
   "cell_type": "code",
   "execution_count": null,
   "id": "0dee41d7-e3a1-4f46-9ee2-3f0993d76b08",
   "metadata": {},
   "outputs": [],
   "source": [
    "cm = CentralManger(channel_key=channel_key, commport=commport, baudrate=baudrate)"
   ]
  },
  {
   "cell_type": "code",
   "execution_count": null,
   "id": "25b97115-c257-4032-a5f2-94c4ca45a063",
   "metadata": {},
   "outputs": [],
   "source": [
    "p1 = cm.update_process()\n",
    "plot = cm.args_dict[\"plot\"]"
   ]
  },
  {
   "cell_type": "code",
   "execution_count": null,
   "id": "176ec4ab-7488-4635-93ba-7170dc250bf6",
   "metadata": {},
   "outputs": [],
   "source": [
    "p1.start()\n",
    "plot.add_animations(partial(plot_manager.obtain_grid_plot_data, cm.args_dict, ))\n",
    "plot.show()"
   ]
  }
 ],
 "metadata": {
  "kernelspec": {
   "display_name": "Python 3 (ipykernel)",
   "language": "python",
   "name": "python3"
  },
  "language_info": {
   "codemirror_mode": {
    "name": "ipython",
    "version": 3
   },
   "file_extension": ".py",
   "mimetype": "text/x-python",
   "name": "python",
   "nbconvert_exporter": "python",
   "pygments_lexer": "ipython3",
   "version": "3.11.3"
  }
 },
 "nbformat": 4,
 "nbformat_minor": 5
}
