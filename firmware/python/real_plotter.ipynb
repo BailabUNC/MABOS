{
 "cells": [
  {
   "cell_type": "code",
   "execution_count": 1,
   "id": "a51b5686",
   "metadata": {},
   "outputs": [],
   "source": [
    "import serial\n",
    "import multiprocessing\n",
    "from multiprocessing.shared_memory import SharedMemory\n",
    "import time\n",
    "import numpy as np\n",
    "import random\n",
    "from fastplotlib import Plot, GridPlot\n",
    "from functools import partial\n",
    "import time"
   ]
  },
  {
   "cell_type": "code",
   "execution_count": 2,
   "id": "40503ecf",
   "metadata": {},
   "outputs": [],
   "source": [
    "# Sync & Mem Managers\n",
    "def create_event_flags():\n",
    "    generate_ef = multiprocessing.Event()\n",
    "    acquire_ef = multiprocessing.Event()\n",
    "    return generate_ef, acquire_ef\n",
    "\n",
    "def create_mutex():\n",
    "    mutex = multiprocessing.Lock()\n",
    "    return mutex\n",
    "\n",
    "# Initialize (Grid) Plot\n",
    "def create_grid_plot():\n",
    "    grid_shape = (1, 3)\n",
    "\n",
    "    controllers = [\n",
    "        [0, 1, 2]\n",
    "    ]\n",
    "\n",
    "    names = [\n",
    "        [\"red\", \"IR\", \"violet\"]\n",
    "    ]\n",
    "\n",
    "    grid_plot = GridPlot(\n",
    "        shape=grid_shape,\n",
    "        controllers=controllers,\n",
    "        names=names\n",
    "    )\n",
    "\n",
    "    return grid_plot\n",
    "\n",
    "def create_plot():\n",
    "    plot = Plot()\n",
    "    return plot\n",
    "\n",
    "def initialize_plot(plot):\n",
    "    xs = [np.linspace(0,999,1000)]\n",
    "    # ys = np.array((random.sample(range(0,1000), 1000)))\n",
    "    ys = np.ones(1000)*np.linspace(0,1,1000)\n",
    "    plot_data = np.dstack([xs,ys])[0]\n",
    "    plot.add_line(data=plot_data, name='data', cmap='jet')\n",
    "    data = np.vstack((xs,ys))\n",
    "    plot.auto_scale(maintain_aspect=False)\n",
    "    return data\n",
    "\n",
    "def initialize_grid_plot(grid_plot):\n",
    "    xs = [np.linspace(0,999,1000)]\n",
    "    ys = np.array(np.random.randint(0,1000, size=(3,1000)))\n",
    "    for i, subplot in enumerate(grid_plot):\n",
    "        plot_data = np.dstack([xs, ys[i]])[0]\n",
    "        subplot.add_line(data = plot_data, name='data', cmap='jet')\n",
    "    data = np.vstack((xs, ys))\n",
    "    return data"
   ]
  },
  {
   "cell_type": "code",
   "execution_count": 3,
   "id": "f0814001",
   "metadata": {},
   "outputs": [],
   "source": [
    "# Create Shared Memory Object\n",
    "def create_shared_block(plot, grid_plot=False):\n",
    "    if grid_plot:\n",
    "        data = initialize_grid_plot(plot)\n",
    "    else:\n",
    "        data = initialize_plot(plot)\n",
    "    shm = SharedMemory(create=True, size=data.nbytes)\n",
    "    data_shared = np.ndarray(shape=data.shape, \n",
    "                             dtype=np.int64, buffer=shm.buf)\n",
    "    data_shared[:] = data[:]\n",
    "    return shm, data_shared\n",
    "# Establish Serial Port Communication\n",
    "def setup_serial(commport, baudrate):\n",
    "    try:\n",
    "        ser = serial.Serial(commport, baudrate, timeout=0.1)\n",
    "        return ser\n",
    "    except:\n",
    "        print(\"Error in setting up serial port\")"
   ]
  },
  {
   "cell_type": "code",
   "execution_count": 4,
   "id": "0533afb6",
   "metadata": {},
   "outputs": [],
   "source": [
    "# Modify Data\n",
    "def update_data(shm_name, mutex, ser):\n",
    "    while True:\n",
    "        shm = SharedMemory(shm_name)\n",
    "        ys = ser.readline().decode().strip()\n",
    "        mutex.acquire()\n",
    "        data_shared = np.ndarray(shape=shape, dtype=dtype, buffer=shm.buf)\n",
    "        xs = data_shared[0][-window_length:]\n",
    "        data_shared[0][:-window_length] = data_shared[0][window_length:] - [window_length]\n",
    "        data_shared[0][-window_length:] = xs\n",
    "        for i in range(shape[0] - 1):\n",
    "            data_shared[i+1][:-window_length] = data_shared[i+1][window_length:]\n",
    "            data_shared[i+1][-window_length:] = ys\n",
    "        mutex.release()\n",
    "        \n",
    "def obtain_plot_data(shm_name, mutex, plot):\n",
    "    shm = SharedMemory(shm_name)\n",
    "    mutex.acquire()\n",
    "    data_shared = np.ndarray(shape=shape, dtype=dtype, buffer=shm.buf)\n",
    "    data = np.dstack([data_shared[0], data_shared[1]])[0]\n",
    "    mutex.release()\n",
    "    plot['data'].data = data\n",
    "    plot.auto_scale(maintain_aspect=False)\n",
    "\n",
    "def obtain_grid_plot_data(shm_name, mutex, grid_plot):\n",
    "    shm = SharedMemory(shm_name)\n",
    "    mutex.acquire()\n",
    "    data_shared = np.ndarray(shape=shape, dtype=dtype, buffer=shm.buf)\n",
    "    for i, subplot in enumerate(grid_plot):\n",
    "        data = np.dstack([data_shared[0], data_shared[i+1]])[0]\n",
    "        subplot['data'].data = data\n",
    "    mutex.release()"
   ]
  },
  {
   "cell_type": "code",
   "execution_count": 5,
   "id": "d065d44f",
   "metadata": {},
   "outputs": [
    {
     "data": {
      "application/vnd.jupyter.widget-view+json": {
       "model_id": "a4cb54e0d5e34617b4425d3da106c47e",
       "version_major": 2,
       "version_minor": 0
      },
      "text/plain": [
       "RFBOutputContext()"
      ]
     },
     "metadata": {},
     "output_type": "display_data"
    },
    {
     "data": {
      "text/html": [
       "<div class='initial-snapshot-e6ebb3679b2944fa9eeb3f5216582897' style='position:relative;'><img src='data:image/png;base64,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' style='width:500.0px;height:300.0px;' /><div style='position: absolute; top:0; left:0; padding:1px 3px; background: #777; color:#fff; font-size: 90%; font-family:sans-serif; '>initial snapshot</div></div>"
      ],
      "text/plain": [
       "<jupyter_rfb._utils.Snapshot object>"
      ]
     },
     "metadata": {},
     "output_type": "display_data"
    },
    {
     "data": {
      "application/vnd.jupyter.widget-view+json": {
       "model_id": "e6ebb3679b2944fa9eeb3f5216582897",
       "version_major": 2,
       "version_minor": 0
      },
      "text/plain": [
       "JupyterWgpuCanvas()"
      ]
     },
     "execution_count": 5,
     "metadata": {},
     "output_type": "execute_result"
    },
    {
     "name": "stderr",
     "output_type": "stream",
     "text": [
      "Process update:\n",
      "Traceback (most recent call last):\n",
      "  File \"/usr/lib/python3.10/multiprocessing/process.py\", line 314, in _bootstrap\n",
      "    self.run()\n",
      "  File \"/usr/lib/python3.10/multiprocessing/process.py\", line 108, in run\n",
      "    self._target(*self._args, **self._kwargs)\n",
      "  File \"/tmp/ipykernel_2925/3471672835.py\", line 5, in update_data\n",
      "    ys = ser.readline().decode().strip()\n",
      "  File \"/home/aju/fastplotlib/lib/python3.10/site-packages/serial/serialposix.py\", line 565, in read\n",
      "    ready, _, _ = select.select([self.fd, self.pipe_abort_read_r], [], [], timeout.time_left())\n",
      "KeyboardInterrupt\n"
     ]
    }
   ],
   "source": [
    "# Single Plot\n",
    "## Initialize global vars\n",
    "global shape, dtype, window_length\n",
    "## Define how many data points you want to generate at a time\n",
    "window_length=1\n",
    "## Create plot and shared memory block\n",
    "plot = create_plot()\n",
    "shm, data = create_shared_block(plot)\n",
    "## Define global vars\n",
    "shape, dtype = data.shape, data.dtype\n",
    "# Create mutex\n",
    "mutex = create_mutex()\n",
    "# Define Serial Port\n",
    "ser = setup_serial('/dev/ttyACM0', 115200)\n",
    "## Define process\n",
    "p1 = multiprocessing.Process(name='update', \n",
    "                             target=update_data,\n",
    "                             args=(shm.name, mutex, ser,))\n",
    "\n",
    "## Start process and plotting\n",
    "p1.start()\n",
    "plot.add_animations(partial(obtain_plot_data, shm.name, mutex, plot,))\n",
    "plot.show()"
   ]
  },
  {
   "cell_type": "code",
   "execution_count": null,
   "id": "6bbf0c40",
   "metadata": {},
   "outputs": [],
   "source": [
    "plot.auto_scale(maintain_aspect=False)"
   ]
  },
  {
   "cell_type": "code",
   "execution_count": null,
   "id": "74790603",
   "metadata": {},
   "outputs": [],
   "source": []
  }
 ],
 "metadata": {
  "kernelspec": {
   "display_name": "Python 3 (ipykernel)",
   "language": "python",
   "name": "python3"
  },
  "language_info": {
   "codemirror_mode": {
    "name": "ipython",
    "version": 3
   },
   "file_extension": ".py",
   "mimetype": "text/x-python",
   "name": "python",
   "nbconvert_exporter": "python",
   "pygments_lexer": "ipython3",
   "version": "3.10.10"
  }
 },
 "nbformat": 4,
 "nbformat_minor": 5
}
