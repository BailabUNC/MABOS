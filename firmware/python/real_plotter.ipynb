{
 "cells": [
  {
   "cell_type": "code",
   "execution_count": 1,
   "id": "a51b5686",
   "metadata": {},
   "outputs": [],
   "source": [
    "import serial\n",
    "import multiprocessing\n",
    "from multiprocessing.shared_memory import SharedMemory\n",
    "import time\n",
    "import numpy as np\n",
    "import random\n",
    "from fastplotlib import Plot, GridPlot\n",
    "from functools import partial\n",
    "import time"
   ]
  },
  {
   "cell_type": "code",
   "execution_count": 2,
   "id": "40503ecf",
   "metadata": {},
   "outputs": [],
   "source": [
    "# Sync & Mem Managers\n",
    "def create_event_flags():\n",
    "    generate_ef = multiprocessing.Event()\n",
    "    acquire_ef = multiprocessing.Event()\n",
    "    return generate_ef, acquire_ef\n",
    "\n",
    "def create_mutex():\n",
    "    mutex = multiprocessing.Lock()\n",
    "    return mutex\n",
    "\n",
    "# Initialize (Grid) Plot\n",
    "def create_grid_plot():\n",
    "    grid_shape = (1, 3)\n",
    "\n",
    "    controllers = [\n",
    "        [0, 1, 2]\n",
    "    ]\n",
    "\n",
    "    names = [\n",
    "        [\"red\", \"IR\", \"violet\"]\n",
    "    ]\n",
    "\n",
    "    grid_plot = GridPlot(\n",
    "        shape=grid_shape,\n",
    "        controllers=controllers,\n",
    "        names=names\n",
    "    )\n",
    "\n",
    "    return grid_plot\n",
    "\n",
    "def create_plot():\n",
    "    plot = Plot()\n",
    "    return plot\n",
    "\n",
    "def initialize_plot(plot):\n",
    "    xs = [np.linspace(0,999,1000)]\n",
    "    # ys = np.array((random.sample(range(0,1000), 1000)))\n",
    "    ys = np.ones(1000)*np.linspace(0,1,1000)\n",
    "    plot_data = np.dstack([xs,ys])[0]\n",
    "    plot.add_line(data=plot_data, name='data', cmap='jet')\n",
    "    data = np.vstack((xs,ys))\n",
    "    plot.auto_scale(maintain_aspect=False)\n",
    "    return data\n",
    "\n",
    "def initialize_grid_plot(grid_plot):\n",
    "    xs = [np.linspace(0,999,1000)]\n",
    "    ys = np.array(np.random.randint(0,1000, size=(3,1000)))\n",
    "    for i, subplot in enumerate(grid_plot):\n",
    "        plot_data = np.dstack([xs, ys[i]])[0]\n",
    "        subplot.add_line(data = plot_data, name='data', cmap='jet')\n",
    "    data = np.vstack((xs, ys))\n",
    "    return data"
   ]
  },
  {
   "cell_type": "code",
   "execution_count": 3,
   "id": "f0814001",
   "metadata": {},
   "outputs": [],
   "source": [
    "# Create Shared Memory Object\n",
    "def create_shared_block(plot, grid_plot=False):\n",
    "    if grid_plot:\n",
    "        data = initialize_grid_plot(plot)\n",
    "    else:\n",
    "        data = initialize_plot(plot)\n",
    "    shm = SharedMemory(create=True, size=data.nbytes)\n",
    "    data_shared = np.ndarray(shape=data.shape, \n",
    "                             dtype=np.int64, buffer=shm.buf)\n",
    "    data_shared[:] = data[:]\n",
    "    return shm, data_shared\n",
    "# Establish Serial Port Communication\n",
    "def setup_serial(commport, baudrate):\n",
    "    try:\n",
    "        ser = serial.Serial(commport, baudrate, timeout=0.1)\n",
    "        return ser\n",
    "    except:\n",
    "        print(\"Error in setting up serial port\")"
   ]
  },
  {
   "cell_type": "code",
   "execution_count": 4,
   "id": "0533afb6",
   "metadata": {},
   "outputs": [],
   "source": [
    "# Modify Data\n",
    "def update_data(shm_name, mutex, ser):\n",
    "    while True:\n",
    "        shm = SharedMemory(shm_name)\n",
    "        ys = ser.readline().decode().strip()\n",
    "        mutex.acquire()\n",
    "        data_shared = np.ndarray(shape=shape, dtype=dtype, buffer=shm.buf)\n",
    "        xs = data_shared[0][-window_length:]\n",
    "        data_shared[0][:-window_length] = data_shared[0][window_length:] - [window_length]\n",
    "        data_shared[0][-window_length:] = xs\n",
    "        for i in range(shape[0] - 1):\n",
    "            data_shared[i+1][:-window_length] = data_shared[i+1][window_length:]\n",
    "            data_shared[i+1][-window_length:] = ys[i]\n",
    "        mutex.release()\n",
    "        \n",
    "def obtain_plot_data(shm_name, mutex, plot):\n",
    "    shm = SharedMemory(shm_name)\n",
    "    mutex.acquire()\n",
    "    data_shared = np.ndarray(shape=shape, dtype=dtype, buffer=shm.buf)\n",
    "    data = np.dstack([data_shared[0], data_shared[1]])[0]\n",
    "    mutex.release()\n",
    "    plot['data'].data = data\n",
    "    plot.auto_scale(maintain_aspect=False)\n",
    "\n",
    "def obtain_grid_plot_data(shm_name, mutex, grid_plot):\n",
    "    shm = SharedMemory(shm_name)\n",
    "    mutex.acquire()\n",
    "    data_shared = np.ndarray(shape=shape, dtype=dtype, buffer=shm.buf)\n",
    "    for i, subplot in enumerate(grid_plot):\n",
    "        data = np.dstack([data_shared[0], data_shared[i+1]])[0]\n",
    "        subplot['data'].data = data\n",
    "    mutex.release()"
   ]
  },
  {
   "cell_type": "code",
   "execution_count": 5,
   "id": "d065d44f",
   "metadata": {},
   "outputs": [
    {
     "data": {
      "application/vnd.jupyter.widget-view+json": {
       "model_id": "707e24e7d8574ffa829a243d4caea2e7",
       "version_major": 2,
       "version_minor": 0
      },
      "text/plain": [
       "RFBOutputContext()"
      ]
     },
     "metadata": {},
     "output_type": "display_data"
    },
    {
     "data": {
      "text/html": [
       "<div class='initial-snapshot-98ab50ce96934bf0a68775cea0dfe121' style='position:relative;'><img src='data:image/png;base64,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' style='width:500.0px;height:300.0px;' /><div style='position: absolute; top:0; left:0; padding:1px 3px; background: #777; color:#fff; font-size: 90%; font-family:sans-serif; '>initial snapshot</div></div>"
      ],
      "text/plain": [
       "<jupyter_rfb._utils.Snapshot object>"
      ]
     },
     "metadata": {},
     "output_type": "display_data"
    },
    {
     "data": {
      "application/vnd.jupyter.widget-view+json": {
       "model_id": "98ab50ce96934bf0a68775cea0dfe121",
       "version_major": 2,
       "version_minor": 0
      },
      "text/plain": [
       "JupyterWgpuCanvas()"
      ]
     },
     "execution_count": 5,
     "metadata": {},
     "output_type": "execute_result"
    }
   ],
   "source": [
    "# Single Plot\n",
    "## Initialize global vars\n",
    "global shape, dtype, window_length\n",
    "## Define how many data points you want to generate at a time\n",
    "window_length=1\n",
    "## Create plot and shared memory block\n",
    "plot = create_plot()\n",
    "shm, data = create_shared_block(plot)\n",
    "## Define global vars\n",
    "shape, dtype = data.shape, data.dtype\n",
    "# Create mutex\n",
    "mutex = create_mutex()\n",
    "# Define Serial Port\n",
    "ser = setup_serial('/dev/ttyACM0', 115200)\n",
    "## Define process\n",
    "p1 = multiprocessing.Process(name='update', \n",
    "                             target=update_data,\n",
    "                             args=(shm.name, mutex, ser,))\n",
    "\n",
    "## Start process and plotting\n",
    "p1.start()\n",
    "plot.add_animations(partial(obtain_plot_data, shm.name, mutex, plot,))\n",
    "plot.show()"
   ]
  },
  {
   "cell_type": "code",
   "execution_count": null,
   "id": "6bbf0c40",
   "metadata": {},
   "outputs": [],
   "source": [
    "plot.auto_scale(maintain_aspect=False)"
   ]
  },
  {
   "cell_type": "code",
   "execution_count": null,
   "id": "74790603",
   "metadata": {},
   "outputs": [],
   "source": []
  }
 ],
 "metadata": {
  "kernelspec": {
   "display_name": "Python 3 (ipykernel)",
   "language": "python",
   "name": "python3"
  },
  "language_info": {
   "codemirror_mode": {
    "name": "ipython",
    "version": 3
   },
   "file_extension": ".py",
   "mimetype": "text/x-python",
   "name": "python",
   "nbconvert_exporter": "python",
   "pygments_lexer": "ipython3",
   "version": "3.10.10"
  }
 },
 "nbformat": 4,
 "nbformat_minor": 5
}
