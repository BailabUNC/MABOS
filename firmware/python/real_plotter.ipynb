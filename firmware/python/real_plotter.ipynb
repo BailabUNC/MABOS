{
 "cells": [
  {
   "cell_type": "code",
   "execution_count": 1,
   "id": "a51b5686",
   "metadata": {},
   "outputs": [],
   "source": [
    "import serial\n",
    "import multiprocessing\n",
    "from multiprocessing.shared_memory import SharedMemory\n",
    "import time\n",
    "import numpy as np\n",
    "import random\n",
    "from fastplotlib import Plot, GridPlot\n",
    "from functools import partial\n",
    "import time"
   ]
  },
  {
   "cell_type": "code",
   "execution_count": 2,
   "id": "40503ecf",
   "metadata": {},
   "outputs": [],
   "source": [
    "# Sync & Mem Managers\n",
    "def create_event_flags():\n",
    "    generate_ef = multiprocessing.Event()\n",
    "    acquire_ef = multiprocessing.Event()\n",
    "    return generate_ef, acquire_ef\n",
    "\n",
    "def create_mutex():\n",
    "    mutex = multiprocessing.Lock()\n",
    "    return mutex\n",
    "\n",
    "# Initialize (Grid) Plot\n",
    "def create_grid_plot():\n",
    "    grid_shape = (1, 3)\n",
    "\n",
    "    controllers = [\n",
    "        [0, 1, 2]\n",
    "    ]\n",
    "\n",
    "    names = [\n",
    "        [\"red\", \"IR\", \"violet\"]\n",
    "    ]\n",
    "\n",
    "    grid_plot = GridPlot(\n",
    "        shape=grid_shape,\n",
    "        controllers=controllers,\n",
    "        names=names\n",
    "    )\n",
    "\n",
    "    return grid_plot\n",
    "\n",
    "def create_plot():\n",
    "    plot = Plot()\n",
    "    return plot\n",
    "\n",
    "def initialize_plot(plot):\n",
    "    xs = [np.linspace(0,999,1000)]\n",
    "    # ys = np.array((random.sample(range(0,1000), 1000)))\n",
    "    ys = np.ones(1000)*np.linspace(0,1,1000)\n",
    "    plot_data = np.dstack([xs,ys])[0]\n",
    "    plot.add_line(data=plot_data, name='data', cmap='jet')\n",
    "    data = np.vstack((xs,ys))\n",
    "    plot.auto_scale(maintain_aspect=False)\n",
    "    return data\n",
    "\n",
    "def initialize_grid_plot(grid_plot):\n",
    "    xs = [np.linspace(0,999,1000)]\n",
    "    ys = np.array(np.random.randint(0,1000, size=(3,1000)))\n",
    "    for i, subplot in enumerate(grid_plot):\n",
    "        plot_data = np.dstack([xs, ys[i]])[0]\n",
    "        subplot.add_line(data = plot_data, name='data', cmap='jet')\n",
    "    data = np.vstack((xs, ys))\n",
    "    return data"
   ]
  },
  {
   "cell_type": "code",
   "execution_count": 3,
   "id": "f0814001",
   "metadata": {},
   "outputs": [],
   "source": [
    "# Create Shared Memory Object\n",
    "def create_shared_block(plot, grid_plot=False):\n",
    "    if grid_plot:\n",
    "        data = initialize_grid_plot(plot)\n",
    "    else:\n",
    "        data = initialize_plot(plot)\n",
    "    shm = SharedMemory(create=True, size=data.nbytes)\n",
    "    data_shared = np.ndarray(shape=data.shape, \n",
    "                             dtype=np.int64, buffer=shm.buf)\n",
    "    data_shared[:] = data[:]\n",
    "    return shm, data_shared\n",
    "# Establish Serial Port Communication\n",
    "def setup_serial(commport, baudrate):\n",
    "    try:\n",
    "        ser = serial.Serial(commport, baudrate, timeout=0.1)\n",
    "        return ser\n",
    "    except:\n",
    "        print(\"Error in setting up serial port\")"
   ]
  },
  {
   "cell_type": "code",
   "execution_count": 4,
   "id": "0533afb6",
   "metadata": {},
   "outputs": [],
   "source": [
    "# Modify Data\n",
    "def update_data(shm_name, mutex, ser):\n",
    "    while True:\n",
    "        shm = SharedMemory(shm_name)\n",
    "        ys = ser.readline().decode().strip()\n",
    "        mutex.acquire()\n",
    "        data_shared = np.ndarray(shape=shape, dtype=dtype, buffer=shm.buf)\n",
    "        xs = data_shared[0][-window_length:]\n",
    "        data_shared[0][:-window_length] = data_shared[0][window_length:] - [window_length]\n",
    "        data_shared[0][-window_length:] = xs\n",
    "        for i in range(shape[0] - 1):\n",
    "            data_shared[i+1][:-window_length] = data_shared[i+1][window_length:]\n",
    "            data_shared[i+1][-window_length:] = ys\n",
    "        mutex.release()\n",
    "        \n",
    "def obtain_plot_data(shm_name, mutex, plot):\n",
    "    shm = SharedMemory(shm_name)\n",
    "    mutex.acquire()\n",
    "    data_shared = np.ndarray(shape=shape, dtype=dtype, buffer=shm.buf)\n",
    "    data = np.dstack([data_shared[0], data_shared[1]])[0]\n",
    "    mutex.release()\n",
    "    plot['data'].data = data\n",
    "    plot.auto_scale(maintain_aspect=False)\n",
    "\n",
    "def obtain_grid_plot_data(shm_name, mutex, grid_plot):\n",
    "    shm = SharedMemory(shm_name)\n",
    "    mutex.acquire()\n",
    "    data_shared = np.ndarray(shape=shape, dtype=dtype, buffer=shm.buf)\n",
    "    for i, subplot in enumerate(grid_plot):\n",
    "        data = np.dstack([data_shared[0], data_shared[i+1]])[0]\n",
    "        subplot['data'].data = data\n",
    "    mutex.release()"
   ]
  },
  {
   "cell_type": "code",
   "execution_count": 5,
   "id": "d065d44f",
   "metadata": {},
   "outputs": [
    {
     "data": {
      "application/vnd.jupyter.widget-view+json": {
       "model_id": "118bb0dc2fb64158afa8dd63158f1614",
       "version_major": 2,
       "version_minor": 0
      },
      "text/plain": [
       "RFBOutputContext()"
      ]
     },
     "metadata": {},
     "output_type": "display_data"
    },
    {
     "name": "stdout",
     "output_type": "stream",
     "text": [
      "<Lock(owner=None)>\n"
     ]
    },
    {
     "name": "stderr",
     "output_type": "stream",
     "text": [
      "/home/aju/Desktop/fastplotlib/fastplotlib/graphics/features/_base.py:34: UserWarning: converting float64 array to float32\n",
      "  warn(f\"converting {array.dtype} array to float32\")\n"
     ]
    },
    {
     "data": {
      "application/vnd.jupyter.widget-view+json": {
       "model_id": "10d1b8890af747a499bf57622e519fe5",
       "version_major": 2,
       "version_minor": 0
      },
      "text/plain": [
       "VBox(children=(JupyterWgpuCanvas(), HBox(children=(Button(icon='expand-arrows-alt', layout=Layout(width='auto'…"
      ]
     },
     "execution_count": 5,
     "metadata": {},
     "output_type": "execute_result"
    },
    {
     "name": "stderr",
     "output_type": "stream",
     "text": [
      "No such comm: 0968fa9c26bb4da98a8fabe6b8d8bb3e\n",
      "No such comm: 0968fa9c26bb4da98a8fabe6b8d8bb3e\n",
      "No such comm: 0968fa9c26bb4da98a8fabe6b8d8bb3e\n",
      "No such comm: 0968fa9c26bb4da98a8fabe6b8d8bb3e\n"
     ]
    }
   ],
   "source": [
    "# Single Plot\n",
    "## Initialize global vars\n",
    "global shape, dtype, window_length\n",
    "## Define how many data points you want to generate at a time\n",
    "window_length=1\n",
    "## Create plot and shared memory block\n",
    "plot = create_plot()\n",
    "shm, data = create_shared_block(plot)\n",
    "## Define global vars\n",
    "shape, dtype = data.shape, data.dtype\n",
    "# Create mutex\n",
    "mutex = create_mutex()\n",
    "print(mutex)\n",
    "# Define Serial Port\n",
    "ser = setup_serial('/dev/ttyACM0', 115200)\n",
    "## Define process\n",
    "p1 = multiprocessing.Process(name='update', \n",
    "                             target=update_data,\n",
    "                             args=(shm.name, mutex, ser,))\n",
    "\n",
    "## Start process and plotting\n",
    "p1.start()\n",
    "plot.add_animations(partial(obtain_plot_data, shm.name, mutex, plot,))\n",
    "plot.show()"
   ]
  },
  {
   "cell_type": "code",
   "execution_count": null,
   "id": "54772445",
   "metadata": {},
   "outputs": [],
   "source": []
  }
 ],
 "metadata": {
  "kernelspec": {
   "display_name": "mabos",
   "language": "python",
   "name": "mabos"
  },
  "language_info": {
   "codemirror_mode": {
    "name": "ipython",
    "version": 3
   },
   "file_extension": ".py",
   "mimetype": "text/x-python",
   "name": "python",
   "nbconvert_exporter": "python",
   "pygments_lexer": "ipython3",
   "version": "3.11.3"
  }
 },
 "nbformat": 4,
 "nbformat_minor": 5
}
