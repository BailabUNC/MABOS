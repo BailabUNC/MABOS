{
 "cells": [
  {
   "cell_type": "code",
   "execution_count": 1,
   "id": "a51b5686",
   "metadata": {},
   "outputs": [],
   "source": [
    "import serial\n",
    "import multiprocessing\n",
    "from multiprocessing.shared_memory import SharedMemory\n",
    "import time\n",
    "import numpy as np\n",
    "import random\n",
    "from fastplotlib import Plot\n",
    "from fastplotlib.layouts import GridPlot\n",
    "from functools import partial\n",
    "import time"
   ]
  },
  {
   "cell_type": "code",
   "execution_count": 2,
   "id": "40503ecf",
   "metadata": {},
   "outputs": [],
   "source": [
    "# Sync & Mem Managers\n",
    "def create_event_flags():\n",
    "    generate_ef = multiprocessing.Event()\n",
    "    acquire_ef = multiprocessing.Event()\n",
    "    return generate_ef, acquire_ef\n",
    "\n",
    "def create_mutex():\n",
    "    mutex = multiprocessing.Lock()\n",
    "    return mutex\n",
    "\n",
    "# Initialize (Grid) Plot\n",
    "def create_grid_plot():\n",
    "    grid_shape = (1, 3)\n",
    "\n",
    "    controllers = [\n",
    "        [0, 1, 2]\n",
    "    ]\n",
    "\n",
    "    names = [\n",
    "        [\"red\", \"IR\", \"violet\"]\n",
    "    ]\n",
    "\n",
    "    grid_plot = GridPlot(\n",
    "        shape=grid_shape,\n",
    "        controllers=controllers,\n",
    "        names=names\n",
    "    )\n",
    "\n",
    "    return grid_plot\n",
    "\n",
    "def create_plot():\n",
    "    plot = Plot()\n",
    "    return plot\n",
    "\n",
    "def initialize_plot(plot):\n",
    "    xs = [np.linspace(0,999,1000)]\n",
    "    # ys = np.array((random.sample(range(0,1000), 1000)))\n",
    "    ys = np.ones(1000)*np.linspace(0,1,1000)\n",
    "    plot_data = np.dstack([xs,ys])[0]\n",
    "    plot.add_line(data=plot_data, name='data', cmap='jet')\n",
    "    data = np.vstack((xs,ys))\n",
    "    return data\n",
    "\n",
    "def initialize_grid_plot(grid_plot):\n",
    "    xs = [np.linspace(0,999,1000)]\n",
    "    ys = np.array(np.random.randint(0,1000, size=(3,1000)))\n",
    "    for i, subplot in enumerate(grid_plot):\n",
    "        plot_data = np.dstack([xs, ys[i]])[0]\n",
    "        subplot.add_line(data = plot_data, name='data', cmap='jet')\n",
    "    data = np.vstack((xs, ys))\n",
    "    return data"
   ]
  },
  {
   "cell_type": "code",
   "execution_count": 3,
   "id": "f0814001",
   "metadata": {},
   "outputs": [],
   "source": [
    "# Create Shared Memory Object\n",
    "def create_shared_block(plot, grid_plot=False):\n",
    "    if grid_plot:\n",
    "        data = initialize_grid_plot(plot)\n",
    "    else:\n",
    "        data = initialize_plot(plot)\n",
    "    shm = SharedMemory(create=True, size=data.nbytes)\n",
    "    data_shared = np.ndarray(shape=data.shape, \n",
    "                             dtype=np.int64, buffer=shm.buf)\n",
    "    data_shared[:] = data[:]\n",
    "    return shm, data_shared\n",
    "# Establish Serial Port Communication\n",
    "def setup_serial(commport, baudrate):\n",
    "    try:\n",
    "        ser = serial.Serial(commport, baudrate, timeout=0.1)\n",
    "        return ser\n",
    "    except:\n",
    "        print(\"Error in setting up serial port\")"
   ]
  },
  {
   "cell_type": "code",
   "execution_count": 4,
   "id": "0533afb6",
   "metadata": {},
   "outputs": [],
   "source": [
    "# Modify Data\n",
    "def update_data(shm_name, mutex, ser):\n",
    "    while True:\n",
    "        shm = SharedMemory(shm_name)\n",
    "        ys = ser.readline().decode().strip()\n",
    "        mutex.acquire()\n",
    "        data_shared = np.ndarray(shape=shape, dtype=dtype, buffer=shm.buf)\n",
    "        xs = data_shared[0][-window_length:]\n",
    "        data_shared[0][:-window_length] = data_shared[0][window_length:] - [window_length]\n",
    "        data_shared[0][-window_length:] = xs\n",
    "        for i in range(shape[0] - 1):\n",
    "            data_shared[i+1][:-window_length] = data_shared[i+1][window_length:]\n",
    "            data_shared[i+1][-window_length:] = ys[i]\n",
    "        mutex.release()\n",
    "        \n",
    "def obtain_plot_data(shm_name, mutex, plot):\n",
    "    shm = SharedMemory(shm_name)\n",
    "    mutex.acquire()\n",
    "    data_shared = np.ndarray(shape=shape, dtype=dtype, buffer=shm.buf)\n",
    "    data = np.dstack([data_shared[0], data_shared[1]])[0]\n",
    "    mutex.release()\n",
    "    plot['data'].data = data\n",
    "\n",
    "def obtain_grid_plot_data(shm_name, mutex, grid_plot):\n",
    "    shm = SharedMemory(shm_name)\n",
    "    mutex.acquire()\n",
    "    data_shared = np.ndarray(shape=shape, dtype=dtype, buffer=shm.buf)\n",
    "    for i, subplot in enumerate(grid_plot):\n",
    "        data = np.dstack([data_shared[0], data_shared[i+1]])[0]\n",
    "        subplot['data'].data = data\n",
    "    mutex.release()"
   ]
  },
  {
   "cell_type": "code",
   "execution_count": 5,
   "id": "d065d44f",
   "metadata": {},
   "outputs": [
    {
     "data": {
      "application/vnd.jupyter.widget-view+json": {
       "model_id": "bb7eb5a766d94faa9cf09ac0d892abba",
       "version_major": 2,
       "version_minor": 0
      },
      "text/plain": [
       "RFBOutputContext()"
      ]
     },
     "metadata": {},
     "output_type": "display_data"
    },
    {
     "data": {
      "text/html": [
       "<div class='initial-snapshot-15049b130b8f491c98f25683d2727b5b' style='position:relative;'><img src='data:image/png;base64,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' style='width:500.0px;height:300.0px;' /><div style='position: absolute; top:0; left:0; padding:1px 3px; background: #777; color:#fff; font-size: 90%; font-family:sans-serif; '>initial snapshot</div></div>"
      ],
      "text/plain": [
       "<jupyter_rfb._utils.Snapshot object>"
      ]
     },
     "metadata": {},
     "output_type": "display_data"
    },
    {
     "data": {
      "application/vnd.jupyter.widget-view+json": {
       "model_id": "15049b130b8f491c98f25683d2727b5b",
       "version_major": 2,
       "version_minor": 0
      },
      "text/plain": [
       "JupyterWgpuCanvas()"
      ]
     },
     "execution_count": 5,
     "metadata": {},
     "output_type": "execute_result"
    }
   ],
   "source": [
    "# Single Plot\n",
    "## Initialize global vars\n",
    "global shape, dtype, window_length\n",
    "## Define how many data points you want to generate at a time\n",
    "window_length=1\n",
    "## Create plot and shared memory block\n",
    "plot = create_plot()\n",
    "shm, data = create_shared_block(plot)\n",
    "## Define global vars\n",
    "shape, dtype = data.shape, data.dtype\n",
    "# Create mutex\n",
    "mutex = create_mutex()\n",
    "# Define Serial Port\n",
    "ser = setup_serial('/dev/ttyACM0', 115200)\n",
    "## Define process\n",
    "p1 = multiprocessing.Process(name='update', \n",
    "                             target=update_data,\n",
    "                             args=(shm.name, mutex, ser,))\n",
    "\n",
    "## Start process and plotting\n",
    "p1.start()\n",
    "plot.add_animations(partial(obtain_plot_data, shm.name, mutex, plot,))\n",
    "plot.show()"
   ]
  },
  {
   "cell_type": "code",
   "execution_count": null,
   "id": "6bbf0c40",
   "metadata": {},
   "outputs": [],
   "source": []
  }
 ],
 "metadata": {
  "kernelspec": {
   "display_name": "Python 3 (ipykernel)",
   "language": "python",
   "name": "python3"
  },
  "language_info": {
   "codemirror_mode": {
    "name": "ipython",
    "version": 3
   },
   "file_extension": ".py",
   "mimetype": "text/x-python",
   "name": "python",
   "nbconvert_exporter": "python",
   "pygments_lexer": "ipython3",
   "version": "3.10.10"
  }
 },
 "nbformat": 4,
 "nbformat_minor": 5
}
